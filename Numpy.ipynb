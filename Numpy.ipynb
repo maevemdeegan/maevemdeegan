{
  "cells": [
    {
      "cell_type": "markdown",
      "metadata": {
        "id": "view-in-github",
        "colab_type": "text"
      },
      "source": [
        "<a href=\"https://colab.research.google.com/github/maevemdeegan/maevemdeegan/blob/main/Numpy.ipynb\" target=\"_parent\"><img src=\"https://colab.research.google.com/assets/colab-badge.svg\" alt=\"Open In Colab\"/></a>"
      ]
    },
    {
      "cell_type": "markdown",
      "metadata": {
        "id": "Gnsr-omzXQCg"
      },
      "source": [
        "# What is NumPy\n",
        "\n",
        "NumPy is a Python library which contains support for matrices and mathematical operations on matrices.\n",
        "\n",
        "It is fundamental to most applications of Python in the sciences -- many other libraries build upon the NumPy functionality.\n",
        "\n",
        "If you have NumPy installed on the computer that you are working on, you can import it as follows:"
      ]
    },
    {
      "cell_type": "code",
      "execution_count": null,
      "metadata": {
        "id": "2H4R9NfCXQCn"
      },
      "outputs": [],
      "source": [
        "import numpy as np"
      ]
    },
    {
      "cell_type": "markdown",
      "metadata": {
        "id": "aoAlqPUyXQCn"
      },
      "source": [
        "## arrays\n",
        "\n",
        "The fundamental data type of NumPy is `array` (sometimes known as `ndarray`), which is a type for _homogeneous_ $n$-dimensional arrays of elements. That they are homogeneous means that all the elements in an array have the same type. This is in contrast to lists and tuples in Python.\n",
        "\n",
        "An array is created with the `np.array()` function, where you give a list of the elements of the array as an argument. If the array you wish to create is a 1D array, it's just a list of the numbers; if it is a 2D array, then you give a list of the rows (where each row is also a list of numbers), etc."
      ]
    },
    {
      "cell_type": "code",
      "execution_count": null,
      "metadata": {
        "id": "sIOF8RL8XQCn",
        "outputId": "01cfde7c-e94f-42a6-a410-faf8df3f3b76"
      },
      "outputs": [
        {
          "name": "stdout",
          "output_type": "stream",
          "text": [
            "[ 1 -2  0  6]\n"
          ]
        }
      ],
      "source": [
        "# example of creating 1D, 2D and 3D arrays.\n",
        "# first a 1D\n",
        "a1 = np.array([1, -2, 0, 6])\n",
        "print(a1)"
      ]
    },
    {
      "cell_type": "code",
      "execution_count": null,
      "metadata": {
        "id": "16EU9vXwXQCo",
        "outputId": "60157487-95eb-4bc1-ff38-9081489d04ac"
      },
      "outputs": [
        {
          "name": "stdout",
          "output_type": "stream",
          "text": [
            "[[ 2  3 -1]\n",
            " [ 5  0 -4]]\n"
          ]
        }
      ],
      "source": [
        "# Then a 2D\n",
        "a2 = np.array([[2,3,-1],[5,0, -4]])\n",
        "print(a2)"
      ]
    },
    {
      "cell_type": "code",
      "execution_count": null,
      "metadata": {
        "scrolled": true,
        "id": "jxT6CrtGXQCo",
        "outputId": "de4df426-a0fe-4258-b0b9-6e2ca4ad9782"
      },
      "outputs": [
        {
          "name": "stdout",
          "output_type": "stream",
          "text": [
            "[[[1 2]\n",
            "  [3 4]]\n",
            "\n",
            " [[5 6]\n",
            "  [7 8]]]\n"
          ]
        }
      ],
      "source": [
        "# lastly a 3D - we'll stop here\n",
        "a3 = np.array([[[1,2],[3,4]],[[5,6],[7,8]]])\n",
        "print(a3)"
      ]
    },
    {
      "cell_type": "markdown",
      "metadata": {
        "id": "VwjQXGd3XQCo"
      },
      "source": [
        "The standard Python collection datatypes, like *lists*, *tuples* and *dictionaries* are heterogeneous, meaning that the elemnents in them does not have to have the same type. You can have a list with numbers, strings and booleans in it. Numpy arrays on the other hand are *homogeneous*, in that the elements must have the same type. If you provide elements of different types to `np.array()`, then a \"least common denominator\" will be found."
      ]
    },
    {
      "cell_type": "code",
      "execution_count": null,
      "metadata": {
        "id": "cIedA3g8XQCo",
        "outputId": "4c72950a-3bf7-42ed-b132-3717fc57cd1a"
      },
      "outputs": [
        {
          "name": "stdout",
          "output_type": "stream",
          "text": [
            "[1, -2, 'Galway', 3.1415]\n",
            "<class 'list'>\n"
          ]
        }
      ],
      "source": [
        "# lists can be heterogeneous\n",
        "mylist =  [1, -2, \"Galway\", 3.1415]\n",
        "print(mylist)\n",
        "print(type(mylist))"
      ]
    },
    {
      "cell_type": "code",
      "execution_count": null,
      "metadata": {
        "id": "sEjSyj7lXQCo",
        "outputId": "f36ad31a-90bb-472e-abd8-cf84848257b4"
      },
      "outputs": [
        {
          "name": "stdout",
          "output_type": "stream",
          "text": [
            "['1' '-2' 'Galway' '3.1415']\n",
            "<class 'numpy.ndarray'>\n"
          ]
        }
      ],
      "source": [
        "# arrays must be homogeneous so myarr will be an array of strings\n",
        "myarr = np.array(mylist)\n",
        "print(myarr)\n",
        "print(type(myarr))"
      ]
    },
    {
      "cell_type": "markdown",
      "metadata": {
        "id": "VbJSuv-MXQCo"
      },
      "source": [
        "### Creating Arrays\n",
        "\n",
        "Even though we can construct any array we like just by using the `np.array()` function, there are some convenience functions that we can use to more compactly construct arrays.\n",
        "\n",
        "1. `np.zeros()` constructs a matrix where all entries are zero.\n",
        "2. `np.ones()` a matrix where all entries are equal to one.\n",
        "3. `np.empty()` a matrix where the entries are initially unspecified.\n",
        "4. `np.arange()` the entries are a range of elements\n",
        "5. `np.linspace()` the entries are linearly spaced in an interval\n",
        "\n",
        "Some examples of array creation of different dimensions"
      ]
    },
    {
      "cell_type": "code",
      "execution_count": null,
      "metadata": {
        "id": "46EZumuxXQCo",
        "outputId": "3333738f-023e-49ea-f667-e87fd613986e"
      },
      "outputs": [
        {
          "data": {
            "text/plain": [
              "array([[0., 0.],\n",
              "       [0., 0.]])"
            ]
          },
          "execution_count": 7,
          "metadata": {},
          "output_type": "execute_result"
        }
      ],
      "source": [
        "# a 2x2 with zeroes.\n",
        "np.zeros((2,2))"
      ]
    },
    {
      "cell_type": "code",
      "execution_count": null,
      "metadata": {
        "id": "9LDys3PfXQCo",
        "outputId": "da0b3de1-1cad-4e22-8272-4f491745a2d6"
      },
      "outputs": [
        {
          "data": {
            "text/plain": [
              "array([[1, 1, 1],\n",
              "       [1, 1, 1],\n",
              "       [1, 1, 1]])"
            ]
          },
          "execution_count": 8,
          "metadata": {},
          "output_type": "execute_result"
        }
      ],
      "source": [
        "# a 3x3 with ones\n",
        "np.ones((3,3), dtype=int)"
      ]
    },
    {
      "cell_type": "code",
      "execution_count": null,
      "metadata": {
        "id": "JzmUBlHnXQCo",
        "outputId": "bb29fefe-af9b-44a4-85dc-70a69555476b"
      },
      "outputs": [
        {
          "data": {
            "text/plain": [
              "array([[6.90098406e-310, 4.64923216e-310, 0.00000000e+000,\n",
              "        0.00000000e+000],\n",
              "       [4.64908058e-310, 4.82337433e+228, 6.14415221e-144,\n",
              "        1.16097020e-028]])"
            ]
          },
          "execution_count": 9,
          "metadata": {},
          "output_type": "execute_result"
        }
      ],
      "source": [
        "# an 'empty' array\n",
        "np.empty((2,4))"
      ]
    },
    {
      "cell_type": "code",
      "execution_count": null,
      "metadata": {
        "id": "EgHM-3iMXQCp",
        "outputId": "4a138562-18e5-4576-9a43-34b6a79e64bc"
      },
      "outputs": [
        {
          "data": {
            "text/plain": [
              "array([ 1,  2,  3,  4,  5,  6,  7,  8,  9, 10, 11, 12, 13, 14, 15, 16, 17,\n",
              "       18, 19, 20])"
            ]
          },
          "execution_count": 10,
          "metadata": {},
          "output_type": "execute_result"
        }
      ],
      "source": [
        "# an array whose entries are 1,2,3,...20\n",
        "np.arange(1,21)"
      ]
    },
    {
      "cell_type": "code",
      "execution_count": null,
      "metadata": {
        "id": "tHwfznIAXQCp",
        "outputId": "2b837ae1-0057-4da6-ea31-7d0890e15417"
      },
      "outputs": [
        {
          "data": {
            "text/plain": [
              "array([0.  , 0.01, 0.02, 0.03, 0.04, 0.05, 0.06, 0.07, 0.08, 0.09, 0.1 ,\n",
              "       0.11, 0.12, 0.13, 0.14, 0.15, 0.16, 0.17, 0.18, 0.19, 0.2 ])"
            ]
          },
          "execution_count": 11,
          "metadata": {},
          "output_type": "execute_result"
        }
      ],
      "source": [
        "# an array whose entries are 0.0, 0.01, 0.02, ..., 0.20\n",
        "np.linspace(0.0, 0.20, 21)"
      ]
    },
    {
      "cell_type": "markdown",
      "metadata": {
        "id": "nNINyx-QXQCp"
      },
      "source": [
        "### dtype\n",
        "\n",
        "The type of the elements in an array can be accessed through the **attribute** `dtype`."
      ]
    },
    {
      "cell_type": "code",
      "execution_count": null,
      "metadata": {
        "id": "8K2qONQSXQCp",
        "outputId": "56d1a068-3c9c-4248-ff9e-124688568bb9"
      },
      "outputs": [
        {
          "name": "stdout",
          "output_type": "stream",
          "text": [
            "[[ 2  3 -1]\n",
            " [ 5  0 -4]]\n"
          ]
        },
        {
          "data": {
            "text/plain": [
              "dtype('int64')"
            ]
          },
          "execution_count": 12,
          "metadata": {},
          "output_type": "execute_result"
        }
      ],
      "source": [
        "#  of ints and floats and booleans\n",
        "# the array a2 from above\n",
        "print(a2)\n",
        "a2.dtype"
      ]
    },
    {
      "cell_type": "code",
      "execution_count": null,
      "metadata": {
        "id": "xgq4aNPYXQCp",
        "outputId": "45333c95-a9cd-4728-8aa3-c44f26ce84b0"
      },
      "outputs": [
        {
          "data": {
            "text/plain": [
              "dtype('float64')"
            ]
          },
          "execution_count": 13,
          "metadata": {},
          "output_type": "execute_result"
        }
      ],
      "source": [
        "# next the \"evenly spaced numbers between 0.0 and 0.2\"\n",
        "np.linspace(0.0, 0.20, 21).dtype"
      ]
    },
    {
      "cell_type": "code",
      "execution_count": null,
      "metadata": {
        "id": "7hzYisBWXQCp",
        "outputId": "c8abb017-116b-47ff-a075-644e84c9c7d2"
      },
      "outputs": [
        {
          "name": "stdout",
          "output_type": "stream",
          "text": [
            "['1' '-2' 'Galway' '3.1415']\n"
          ]
        },
        {
          "data": {
            "text/plain": [
              "dtype('<U21')"
            ]
          },
          "execution_count": 14,
          "metadata": {},
          "output_type": "execute_result"
        }
      ],
      "source": [
        "# the array with strings\n",
        "print(myarr)\n",
        "myarr.dtype # \"<U21\" should be interpreted as \"unicode strings\""
      ]
    },
    {
      "cell_type": "markdown",
      "metadata": {
        "id": "RalYB8BiXQCp"
      },
      "source": [
        "### Attributes of arrays\n",
        "\n",
        "Three important attributes are\n",
        "\n",
        "1. `ndim` The dimension, or number of axes, of an array.\n",
        "2. `size` The number of elements in the array.\n",
        "3. `shape` The number of elements along each dimension."
      ]
    },
    {
      "cell_type": "code",
      "execution_count": null,
      "metadata": {
        "id": "IGwBkRvLXQCp",
        "outputId": "da9ab5c3-cb9c-4327-b30c-515ca893e004"
      },
      "outputs": [
        {
          "data": {
            "text/plain": [
              "3"
            ]
          },
          "execution_count": 15,
          "metadata": {},
          "output_type": "execute_result"
        }
      ],
      "source": [
        "# ndim\n",
        "a1.ndim\n",
        "a2.ndim\n",
        "a3.ndim"
      ]
    },
    {
      "cell_type": "code",
      "execution_count": null,
      "metadata": {
        "id": "NmlQxOZZXQCp",
        "outputId": "f81c80fc-ec83-4526-9d7e-02b7bd5c5723"
      },
      "outputs": [
        {
          "data": {
            "text/plain": [
              "6"
            ]
          },
          "execution_count": 16,
          "metadata": {},
          "output_type": "execute_result"
        }
      ],
      "source": [
        "# size\n",
        "a1.size\n",
        "a2.size"
      ]
    },
    {
      "cell_type": "code",
      "execution_count": null,
      "metadata": {
        "id": "AzXlw79mXQCp",
        "outputId": "24c501b2-7340-4855-ac75-204c7e5542d8"
      },
      "outputs": [
        {
          "data": {
            "text/plain": [
              "(2, 2, 2)"
            ]
          },
          "execution_count": 17,
          "metadata": {},
          "output_type": "execute_result"
        }
      ],
      "source": [
        "# shape\n",
        "a3.shape"
      ]
    }
  ],
  "metadata": {
    "kernelspec": {
      "display_name": "Python 3",
      "language": "python",
      "name": "python3"
    },
    "language_info": {
      "codemirror_mode": {
        "name": "ipython",
        "version": 3
      },
      "file_extension": ".py",
      "mimetype": "text/x-python",
      "name": "python",
      "nbconvert_exporter": "python",
      "pygments_lexer": "ipython3",
      "version": "3.6.5"
    },
    "colab": {
      "provenance": [],
      "include_colab_link": true
    }
  },
  "nbformat": 4,
  "nbformat_minor": 0
}